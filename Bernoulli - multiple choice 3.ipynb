{
 "cells": [
  {
   "cell_type": "code",
   "execution_count": 22,
   "metadata": {},
   "outputs": [
    {
     "name": "stdout",
     "output_type": "stream",
     "text": [
      "430\n",
      "630\n",
      "252\n"
     ]
    }
   ],
   "source": [
    "import numpy as np\n",
    "# defino una lista de 10 posiciones con los tipos de moneda\n",
    "l_moneda = [0.3, 0.3, 0.3, 0.5, 0.5, 0.5, 0.5, 0.5, 0.2, 0.2]\n",
    "\n",
    "# repito el experimento 1000 veces\n",
    "l_exp = []\n",
    "\n",
    "N = 0\n",
    "while (N < 10000):\n",
    "    # saco 1 moneda de la bolsa eligiendo al azar\n",
    "    moneda = np.random.randint(10)\n",
    "    # obtengo la probabilidad de la moneda\n",
    "    p_moneda = l_moneda[moneda]\n",
    "    # tiro 3 veces la moneda\n",
    "    i = 0\n",
    "    l_tiro = [p_moneda]\n",
    "    while (i < 3):\n",
    "        tiro = np.random.rand()\n",
    "        if(tiro <= p_moneda):\n",
    "            l_tiro.append(1)\n",
    "        else:\n",
    "            l_tiro.append(0)\n",
    "        i +=1\n",
    "        \n",
    "    l_exp.append(l_tiro)\n",
    "    \n",
    "    N += 1\n",
    "    \n",
    "#print(l_experimento)\n",
    "#print(l_tiro)\n",
    "\n",
    "# cuento cuantos [0.3, 1, 0, 0], [0.5, 1, 0, 0] y [0.2, 1, 0, 0] hay\n",
    "tipo1=0\n",
    "tipo2=0\n",
    "tipo3=0\n",
    "for item in l_exp:\n",
    "    if item == [0.3, 1, 0, 0]:\n",
    "        tipo1 += 1\n",
    "    elif item == [0.5, 1, 0, 0]:\n",
    "        tipo2 +=1\n",
    "    elif item == [0.2, 1, 0, 0]:\n",
    "        tipo3 +=1\n",
    "        \n",
    "print (tipo1)\n",
    "print (tipo2)\n",
    "print (tipo3)"
   ]
  },
  {
   "cell_type": "code",
   "execution_count": null,
   "metadata": {},
   "outputs": [],
   "source": []
  }
 ],
 "metadata": {
  "kernelspec": {
   "display_name": "Python 3",
   "language": "python",
   "name": "python3"
  },
  "language_info": {
   "codemirror_mode": {
    "name": "ipython",
    "version": 3
   },
   "file_extension": ".py",
   "mimetype": "text/x-python",
   "name": "python",
   "nbconvert_exporter": "python",
   "pygments_lexer": "ipython3",
   "version": "3.8.5"
  }
 },
 "nbformat": 4,
 "nbformat_minor": 4
}
